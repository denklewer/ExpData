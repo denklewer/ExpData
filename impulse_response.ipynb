{
 "cells": [
  {
   "cell_type": "markdown",
   "metadata": {},
   "source": [
    "# Импульсный отклик линейной системы\n",
    "Импульсная переходная функция - это выходной сигнал динамической системы как реакция на входной сигнал. Выходной сигнал может быть получен как свертка входного сигнала и некоей дельта-функции. Входной сигнал чаще всего представляет собой импульс минимальной ширины (часто равный периоду дискретизации), и в выходной сигнал на каждый импульс входного требуется реагировать с помощью дельта функции.  \n",
    "  \n",
    "Для начала настроим среду и импортируем нужные модули"
   ]
  },
  {
   "cell_type": "code",
   "execution_count": 1,
   "metadata": {},
   "outputs": [],
   "source": [
    "import sys\n",
    "sys.path.append(r'C:\\Users\\Kell\\PycharmProjects\\ExpData')\n",
    "\n",
    "%matplotlib inline\n",
    "\n",
    "import grapher\n",
    "import analysis"
   ]
  },
  {
   "cell_type": "markdown",
   "metadata": {},
   "source": [
    "Далее зададим характеристики входного сигнала. Частота дискретизаци (\\delta T) будет равна 0.005, а количество замеров будет равно 1000"
   ]
  },
  {
   "cell_type": "code",
   "execution_count": 2,
   "metadata": {},
   "outputs": [],
   "source": [
    "deltaT = 0.005\n",
    "N = 1000"
   ]
  },
  {
   "cell_type": "markdown",
   "metadata": {},
   "source": [
    "Далее зададим функцию свертки, т.е. ту, которая будет реагировать на каждый входящий сигнал.  \n",
    "Пусть это будет функция, имитирующая удар сердца в течение 1 секунды, реализация приведена в соотвествующем модуле.\n",
    "Зададим длительность сигнала, затем зададим саму функцию на интервале указанной длительности, а также нормализуем значения функции, чтобы привести ее к единичным значениям амплитуды."
   ]
  },
  {
   "cell_type": "code",
   "execution_count": 3,
   "metadata": {},
   "outputs": [
    {
     "data": {
      "image/png": "[encoded data removed]",
      "text/plain": [
       "<matplotlib.figure.Figure at 0x6b0fb70>"
      ]
     },
     "metadata": {},
     "output_type": "display_data"
    }
   ],
   "source": [
    "M = 200\n",
    "h = analysis.examples.heartbeat(deltaT)\n",
    "h_values = [h(t) for t in range(M)]\n",
    "analysis.preprocessing.normalize_max(h_values)\n",
    "\n",
    "# Отображаем наше сердцебиение\n",
    "grapher.init(1)\n",
    "grapher.set_subplot(1, x_arr=[i * deltaT for i in range(M)], y_arr=h_values,\n",
    "                    subplot_y_number=1, subplot_x_number=1)\n",
    "grapher.show()"
   ]
  },
  {
   "cell_type": "markdown",
   "metadata": {},
   "source": [
    "Имитируем значения, полученные с кардиографа."
   ]
  },
  {
   "cell_type": "code",
   "execution_count": 4,
   "metadata": {},
   "outputs": [
    {
     "data": {
      "image/png": "[encoded data removed]",
      "text/plain": [
       "<matplotlib.figure.Figure at 0x6b0f6d0>"
      ]
     },
     "metadata": {},
     "output_type": "display_data"
    }
   ],
   "source": [
    "x_values = [0] * N\n",
    "x_values[200] = 120\n",
    "x_values[400] = 110\n",
    "x_values[600] = 130\n",
    "x_values[800] = 125\n",
    "\n",
    "grapher.set_subplot(1, x_arr=[i * deltaT for i in range(N)], y_arr=x_values,\n",
    "                    subplot_y_number=1, subplot_x_number=1)\n",
    "grapher.show()"
   ]
  },
  {
   "cell_type": "markdown",
   "metadata": {},
   "source": [
    "Теперь применим дельта-функцию к значениям кардиографа и получим итоговый график сердцебиения."
   ]
  },
  {
   "cell_type": "code",
   "execution_count": 5,
   "metadata": {
    "collapsed": false
   },
   "outputs": [
    {
     "data": {
      "image/png": "[encoded data removed]",
      "text/plain": [
       "<matplotlib.figure.Figure at 0x5701030>"
      ]
     },
     "metadata": {},
     "output_type": "display_data"
    }
   ],
   "source": [
    "values = analysis.impulse_response.process(x_values, h_values)\n",
    "values = values[:N]\n",
    "\n",
    "grapher.set_subplot(1, x_arr=[i * deltaT for i in range(N)], y_arr=values,\n",
    "                    subplot_y_number=1, subplot_x_number=1)\n",
    "grapher.show()"
   ]
  }
 ],
 "metadata": {
  "kernelspec": {
   "display_name": "Python 2",
   "language": "python",
   "name": "python2"
  },
  "language_info": {
   "codemirror_mode": {
    "name": "ipython",
    "version": 2
   },
   "file_extension": ".py",
   "mimetype": "text/x-python",
   "name": "python",
   "nbconvert_exporter": "python",
   "pygments_lexer": "ipython2",
   "version": "2.7.6"
  }
 },
 "nbformat": 4,
 "nbformat_minor": 0
}
