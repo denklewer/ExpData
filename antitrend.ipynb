{
 "cells": [
  {
   "cell_type": "markdown",
   "metadata": {},
   "source": [
    "# Удаление тренда из исходных данных"
   ]
  },
  {
   "cell_type": "markdown",
   "metadata": {},
   "source": [
    "Рассмотрим нормализацию данных на примере удаления восходящего тренда. Целевыми данными будут случайные значения с средним значением = 0, осложненные восходящим линейным трендом.  \n",
    "Импортируем нужные библиотеки и инициализируем генератор случайных чисел"
   ]
  },
  {
   "cell_type": "code",
   "execution_count": 1,
   "metadata": {
    "collapsed": true
   },
   "outputs": [],
   "source": [
    "from analysis import trends, preprocessing\n",
    "import grapher\n",
    "import prng\n",
    "\n",
    "r = prng.PRNG()\n",
    "%matplotlib inline"
   ]
  },
  {
   "cell_type": "markdown",
   "metadata": {},
   "source": [
    "Далее укажем длину последовательности"
   ]
  },
  {
   "cell_type": "code",
   "execution_count": 2,
   "metadata": {},
   "outputs": [],
   "source": [
    "N = 1000\n",
    "f = trends.linear(1, 1)\n",
    "values = [r.uniform(-100, 100) + f(t) for t in range(N)]"
   ]
  },
  {
   "cell_type": "markdown",
   "metadata": {},
   "source": [
    "Далее скопируем значения в новый массив и применим к ним функцию анти-треда на основе плавающего среднего."
   ]
  },
  {
   "cell_type": "code",
   "execution_count": 3,
   "metadata": {},
   "outputs": [],
   "source": [
    "b_values = values.copy()\n",
    "preprocessing.anti_trend(b_values)"
   ]
  },
  {
   "cell_type": "markdown",
   "metadata": {},
   "source": [
    "Отобразим полученные массивы на графиках:  \n",
    "1. График тренда, которым была осложнена функция\n",
    "2. График значений функции, сложенных с трендом\n",
    "3. График значений функции после удаления тренда из сырых данных"
   ]
  },
  {
   "cell_type": "code",
   "execution_count": 4,
   "metadata": {},
   "outputs": [
    {
     "data": {
      "image/png": "[encoded data removed]",
      "text/plain": [
       "<matplotlib.figure.Figure at 0x5f4fc90>"
      ]
     },
     "metadata": {},
     "output_type": "display_data"
    }
   ],
   "source": [
    "grapher.init(1)\n",
    "grapher.set_subplot(1, x_arr=[t for t in range(N)],\n",
    "                    y_arr=[f(t) for t in range(N)])\n",
    "grapher.set_subplot(2, x_arr=[t for t in range(N)],\n",
    "                    y_arr=values)\n",
    "grapher.set_subplot(4, x_arr=[t for t in range(N)],\n",
    "                    y_arr=b_values)\n",
    "grapher.show()"
   ]
  }
 ],
 "metadata": {
  "kernelspec": {
   "display_name": "Python 2",
   "language": "python",
   "name": "python2"
  },
  "language_info": {
   "codemirror_mode": {
    "name": "ipython",
    "version": 2
   },
   "file_extension": ".py",
   "mimetype": "text/x-python",
   "name": "python",
   "nbconvert_exporter": "python",
   "pygments_lexer": "ipython2",
   "version": "2.7.6"
  }
 },
 "nbformat": 4,
 "nbformat_minor": 0
}
