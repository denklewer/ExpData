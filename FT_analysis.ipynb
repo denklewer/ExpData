{
 "cells": [
  {
   "cell_type": "markdown",
   "metadata": {},
   "source": [
    "# Изучение преобразования Фурье  \n",
    "Преобразование Фурье - цепь математических преобразований, позволяющих разложить функцию на элементарные составляющие - гармонические колебания с разными частотами. Разложение происходит по базису синусов и косинусов и позволяет так же выяснить вклад каждого из частей базиса в итоговую функцию.  \n",
    "Импортируем нужные модули и настроим среду."
   ]
  },
  {
   "cell_type": "code",
   "execution_count": 1,
   "metadata": {
    "collapsed": true
   },
   "outputs": [],
   "source": [
    "import sys\n",
    "sys.path.append(r'C:\\Users\\Kell\\PycharmProjects\\ExpData')\n",
    "\n",
    "import grapher\n",
    "from analysis import FT, examples"
   ]
  },
  {
   "cell_type": "markdown",
   "metadata": {},
   "source": [
    "Далее укажем шаг дискретизации. Шаг дискретизации определяет как часто записывается значение функции и позволяет восстанавливать более высокие частоты, входящие в итоговый сигнал."
   ]
  },
  {
   "cell_type": "code",
   "execution_count": 2,
   "metadata": {},
   "outputs": [],
   "source": [
    "deltaT = 0.002"
   ]
  },
  {
   "cell_type": "markdown",
   "metadata": {},
   "source": [
    "Также укажем количество точек замера значений функции."
   ]
  },
  {
   "cell_type": "code",
   "execution_count": 3,
   "metadata": {},
   "outputs": [],
   "source": [
    "N = 1000"
   ]
  },
  {
   "cell_type": "markdown",
   "metadata": {},
   "source": [
    "Далее сформируем наш сложный сигнал. Для имитации реального сигнала возьмем сумму нескольких функций."
   ]
  },
  {
   "cell_type": "code",
   "execution_count": 4,
   "metadata": {},
   "outputs": [],
   "source": [
    "f1 = examples.sin(20, 5, deltaT)\n",
    "f2 = examples.sin(100, 57, deltaT)\n",
    "f3 = examples.sin(35, 190, deltaT)\n",
    "sinList = [f1(t) + f2(t) + f3(t) for t in range(N)]"
   ]
  },
  {
   "cell_type": "markdown",
   "metadata": {},
   "source": [
    "После чего выполним преобразование Фурье к нашему сигналу."
   ]
  },
  {
   "cell_type": "code",
   "execution_count": 5,
   "metadata": {},
   "outputs": [],
   "source": [
    "FT_res = FT.fourier_transform(sinList, deltaT)"
   ]
  },
  {
   "cell_type": "markdown",
   "metadata": {},
   "source": [
    "Стоит заметить, что для всех полученных графиков частот необходимо применить преобразование для значений оси X, т.к. они могут быть не идентичны единичным отрезкам. Преобразование заключается в домножении каждого значения по оси X на дельта F, получаемое из преобразования."
   ]
  },
  {
   "cell_type": "code",
   "execution_count": 6,
   "metadata": {},
   "outputs": [],
   "source": [
    "x_arr = [i * FT_res.deltaF for i in range(N)]"
   ]
  },
  {
   "cell_type": "markdown",
   "metadata": {},
   "source": [
    "Далее отобразим на графиках следующие значения:  \n",
    "1. Сам наш сигнал. Ось X домножим на шаг дискретизации.  \n",
    "2. Вклад косинусов базиса в итоговый сигнал.  \n",
    "3. Вклад синусов базиса в итоговый сигнал.  \n",
    "4. Итоговое разложение сигнала на гармонические колебания  \n",
    "  \n",
    "По оси X располагаются значения частот колебаний полученного разложения. Максимальным значением на оси X выставим граничное значение F, полученное из алгоритма преобразования."
   ]
  },
  {
   "cell_type": "code",
   "execution_count": 7,
   "metadata": {},
   "outputs": [
    {
     "data": {
      "image/png": "[encoded data removed]",
      "text/plain": [
       "<matplotlib.figure.Figure at 0x5f5c2f0>"
      ]
     },
     "metadata": {},
     "output_type": "display_data"
    }
   ],
   "source": [
    "grapher.init(1)\n",
    "grapher.set_subplot(1, x_arr=[i * deltaT for i in range(N)],\n",
    "                    y_arr=sinList, title=\"Sin function\")\n",
    "\n",
    "grapher.set_subplot(2, x_arr=x_arr, y_arr=FT_res.Re,\n",
    "                    xmin=0, xmax=FT_res.borderF,\n",
    "                    title=\"Re list\")\n",
    "\n",
    "grapher.set_subplot(3, x_arr=x_arr, y_arr=FT_res.Im,\n",
    "                    xmin=0, xmax=FT_res.borderF,\n",
    "                    title=\"Im list\")\n",
    "\n",
    "grapher.set_subplot(4, x_arr=x_arr, y_arr=FT_res.frequencies,\n",
    "                    xmin=0, xmax=FT_res.borderF,\n",
    "                    title=\"Frequencies list\")\n",
    "grapher.show()"
   ]
  },
  {
   "cell_type": "markdown",
   "metadata": {},
   "source": [
    "Можно заметить, что базис косинусов не внес никакого вклада в разложение итогового сигнала (все значения в пределах погрешностей), а разложение по базису синусов четко прослеживаются, что логично, т.к. наш сигнал был построен на основе сложения трех синусоидных сигналов.  \n",
    "На итоговом графике видно разложение сигнала в 3 синусоидные волны с частотами, совпадающими с частотами синусов, заданных нами изначально."
   ]
  }
 ],
 "metadata": {
  "kernelspec": {
   "display_name": "Python 2",
   "language": "python",
   "name": "python2"
  },
  "language_info": {
   "codemirror_mode": {
    "name": "ipython",
    "version": 2
   },
   "file_extension": ".py",
   "mimetype": "text/x-python",
   "name": "python",
   "nbconvert_exporter": "python",
   "pygments_lexer": "ipython2",
   "version": "2.7.6"
  }
 },
 "nbformat": 4,
 "nbformat_minor": 0
}
