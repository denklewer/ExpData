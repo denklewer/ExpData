{
 "cells": [
  {
   "cell_type": "markdown",
   "metadata": {},
   "source": [
    "## Анализ встроенного и собственноручно реализованного ГПСЧ  \n",
    "### Реализация\n",
    "Импортируем нужные модули и инициализируем генератор случайных чисел."
   ]
  },
  {
   "cell_type": "code",
   "execution_count": 3,
   "metadata": {},
   "outputs": [
    {
     "data": {
      "text/plain": [
       "<matplotlib.figure.Figure at 0x610fa30>"
      ]
     },
     "execution_count": 0,
     "metadata": {},
     "output_type": "execute_result"
    }
   ],
   "source": [
    "import sys\n",
    "sys.path.append(r'C:\\Users\\Kell\\PycharmProjects\\ExpData')\n",
    "\n",
    "import random\n",
    "from pylab import frange\n",
    "\n",
    "import grapher\n",
    "import analysis.statistics as a\n",
    "import prng\n",
    "\n",
    "%matplotlib inline\n",
    "\n",
    "p = prng.PRNG()\n",
    "\n",
    "grapher.init()"
   ]
  },
  {
   "cell_type": "markdown",
   "metadata": {},
   "source": [
    "Далее зададим длину массива случайных чисел, левую и правую границу возможных значений, и сгенерируем два массива:  \n",
    " * fake_random сгенерирован с помощью созданной мной функцией генерации псевдослучайных случайных чисел;\n",
    " * real_random сгенерирован с помощью встроенной функции генерации псевдослучайных чисел."
   ]
  },
  {
   "cell_type": "code",
   "execution_count": 4,
   "metadata": {},
   "outputs": [],
   "source": [
    "length = 5000\n",
    "left = 0\n",
    "right = 1\n",
    "\n",
    "fake_random = [p.next(left=left, right=right) for i in range(0, length)]\n",
    "real_random = [random.random() for j in range(0, length)]"
   ]
  },
  {
   "cell_type": "markdown",
   "metadata": {},
   "source": [
    "### Статистика  \n",
    "Посчитаем статистику для полученных массивов и сравним их."
   ]
  },
  {
   "cell_type": "code",
   "execution_count": 5,
   "metadata": {},
   "outputs": [
    {
     "name": "stdout",
     "output_type": "stream",
     "text": [
      "Functions:\t\tMy realization\tNative Realization\nMean:\t\t\t0.4952051\t\t0.4964537\nSquare mean:\t\t0.3274175\t\t0.3303832\nRoot Mean Square:\t0.5722041\t\t0.5747897\nVariance:\t\t0.0821894\t\t0.0839169\nSQRT Variance:\t\t0.286687\t\t0.2896842\nSkewness:\t\t0.0054455\t\t0.0221055\nKurtosis:\t\t1.8198236\t\t1.796474\n"
     ]
    }
   ],
   "source": [
    "print(\"Functions:\\t\\t{0}\\t{1}\".format(\"My realization\",\n",
    "                                      \"Native Realization\"))\n",
    "print(\"Mean:\\t\\t\\t{0}\\t\\t{1}\".format(round(a.mean(fake_random), 7),\n",
    "                                   round(a.mean(real_random), 7)))\n",
    "print(\"Square mean:\\t\\t{0}\\t\\t{1}\".format(round(a.square_mean(fake_random), 7),\n",
    "                                        round(a.square_mean(real_random), 7)))\n",
    "print(\"Root Mean Square:\\t{0}\\t\\t{1}\".format(round(a.root_mean_square(fake_random), 7),\n",
    "                                             round(a.root_mean_square(real_random), 7)))\n",
    "print(\"Variance:\\t\\t{0}\\t\\t{1}\".format(round(a.variance(fake_random), 7),\n",
    "                                       round(a.variance(real_random), 7)))\n",
    "print(\"SQRT Variance:\\t\\t{0}\\t\\t{1}\".format(round(a.sqrt_variance(fake_random), 7),\n",
    "                                          round(a.sqrt_variance(real_random), 7)))\n",
    "print(\"Skewness:\\t\\t{0}\\t\\t{1}\".format(round(a.skewness(fake_random), 7),\n",
    "                                       round(a.skewness(real_random), 7)))\n",
    "print(\"Kurtosis:\\t\\t{0}\\t\\t{1}\".format(round(a.kurtosis(fake_random), 7),\n",
    "                                       round(a.kurtosis(real_random), 7)))"
   ]
  },
  {
   "cell_type": "markdown",
   "metadata": {},
   "source": [
    "Можно заметить, что многие показатели почти совпадают, что говорит о схожести распределения.  \n",
    "  \n",
    "Выведем плотность вероятности для каждой функции на промежутке от минимального значения до максимального."
   ]
  },
  {
   "cell_type": "code",
   "execution_count": 5,
   "metadata": {},
   "outputs": [
    {
     "data": {
      "image/png": "[encoded data removed]",
      "text/plain": [
       "<matplotlib.figure.Figure at 0x64641d0>"
      ]
     },
     "metadata": {},
     "output_type": "display_data"
    }
   ],
   "source": [
    "bar_count = 10\n",
    "grapher.set_subplot(subplot_number=1, x_arr=range(0, bar_count),\n",
    "                    xticks=[range(0, bar_count),\n",
    "                            [str(i) for i in frange(left, right, (right - left) / bar_count)]],\n",
    "                    y_arr=a.density(fake_random, bar_count), bar=True, title='My Random()')\n",
    "grapher.set_subplot(subplot_number=2, x_arr=range(0, bar_count),\n",
    "                    xticks=[range(0, bar_count),\n",
    "                            [str(i) for i in frange(0, 1, 0.1)]],\n",
    "                    y_arr=a.density(real_random, bar_count), bar=True, title='Native Random()')"
   ]
  },
  {
   "cell_type": "markdown",
   "metadata": {},
   "source": [
    "Далее посчитаем автокорреляцию для каждой из функций и кросскорреляцию функций друг с другом."
   ]
  },
  {
   "cell_type": "code",
   "execution_count": 6,
   "metadata": {},
   "outputs": [
    {
     "ename": "KeyboardInterrupt",
     "evalue": "",
     "traceback": [
      "\u001b[0;31m---------------------------------------------------------------------------\u001b[0m",
      "\u001b[0;31mKeyboardInterrupt\u001b[0m                         Traceback (most recent call last)",
      "\u001b[0;32m<ipython-input-6-3258d9b0dd1f>\u001b[0m in \u001b[0;36m<module>\u001b[0;34m()\u001b[0m\n\u001b[1;32m      2\u001b[0m \u001b[0mac_real\u001b[0m \u001b[0;34m=\u001b[0m \u001b[0;34m[\u001b[0m\u001b[0ma\u001b[0m\u001b[0;34m.\u001b[0m\u001b[0mautocorrelation\u001b[0m\u001b[0;34m(\u001b[0m\u001b[0mreal_random\u001b[0m\u001b[0;34m,\u001b[0m \u001b[0mi\u001b[0m\u001b[0;34m)\u001b[0m \u001b[0;32mfor\u001b[0m \u001b[0mi\u001b[0m \u001b[0;32min\u001b[0m \u001b[0mrange\u001b[0m\u001b[0;34m(\u001b[0m\u001b[0;36m0\u001b[0m\u001b[0;34m,\u001b[0m \u001b[0mlen\u001b[0m\u001b[0;34m(\u001b[0m\u001b[0mreal_random\u001b[0m\u001b[0;34m)\u001b[0m \u001b[0;34m-\u001b[0m \u001b[0;36m1\u001b[0m\u001b[0;34m)\u001b[0m\u001b[0;34m]\u001b[0m\u001b[0;34m\u001b[0m\u001b[0m\n\u001b[1;32m      3\u001b[0m \u001b[0mcca\u001b[0m \u001b[0;34m=\u001b[0m \u001b[0;34m[\u001b[0m\u001b[0ma\u001b[0m\u001b[0;34m.\u001b[0m\u001b[0mcrosscorrelation\u001b[0m\u001b[0;34m(\u001b[0m\u001b[0mfake_random\u001b[0m\u001b[0;34m,\u001b[0m \u001b[0mreal_random\u001b[0m\u001b[0;34m,\u001b[0m \u001b[0mi\u001b[0m\u001b[0;34m)\u001b[0m \u001b[0;32mfor\u001b[0m \u001b[0mi\u001b[0m \u001b[0;32min\u001b[0m \u001b[0mrange\u001b[0m\u001b[0;34m(\u001b[0m\u001b[0;36m0\u001b[0m\u001b[0;34m,\u001b[0m \u001b[0mlen\u001b[0m\u001b[0;34m(\u001b[0m\u001b[0mfake_random\u001b[0m\u001b[0;34m)\u001b[0m \u001b[0;34m-\u001b[0m \u001b[0;36m1\u001b[0m\u001b[0;34m)\u001b[0m\u001b[0;34m]\u001b[0m\u001b[0;34m\u001b[0m\u001b[0m\n\u001b[0;32m----> 4\u001b[0;31m \u001b[0mccb\u001b[0m \u001b[0;34m=\u001b[0m \u001b[0;34m[\u001b[0m\u001b[0ma\u001b[0m\u001b[0;34m.\u001b[0m\u001b[0mcrosscorrelation\u001b[0m\u001b[0;34m(\u001b[0m\u001b[0mreal_random\u001b[0m\u001b[0;34m,\u001b[0m \u001b[0mfake_random\u001b[0m\u001b[0;34m,\u001b[0m \u001b[0mi\u001b[0m\u001b[0;34m)\u001b[0m \u001b[0;32mfor\u001b[0m \u001b[0mi\u001b[0m \u001b[0;32min\u001b[0m \u001b[0mrange\u001b[0m\u001b[0;34m(\u001b[0m\u001b[0;36m0\u001b[0m\u001b[0;34m,\u001b[0m \u001b[0mlen\u001b[0m\u001b[0;34m(\u001b[0m\u001b[0mreal_random\u001b[0m\u001b[0;34m)\u001b[0m \u001b[0;34m-\u001b[0m \u001b[0;36m1\u001b[0m\u001b[0;34m)\u001b[0m\u001b[0;34m]\u001b[0m\u001b[0;34m\u001b[0m\u001b[0m\n\u001b[0m",
      "\u001b[0;32m<ipython-input-6-3258d9b0dd1f>\u001b[0m in \u001b[0;36m<listcomp>\u001b[0;34m(.0)\u001b[0m\n\u001b[1;32m      2\u001b[0m \u001b[0mac_real\u001b[0m \u001b[0;34m=\u001b[0m \u001b[0;34m[\u001b[0m\u001b[0ma\u001b[0m\u001b[0;34m.\u001b[0m\u001b[0mautocorrelation\u001b[0m\u001b[0;34m(\u001b[0m\u001b[0mreal_random\u001b[0m\u001b[0;34m,\u001b[0m \u001b[0mi\u001b[0m\u001b[0;34m)\u001b[0m \u001b[0;32mfor\u001b[0m \u001b[0mi\u001b[0m \u001b[0;32min\u001b[0m \u001b[0mrange\u001b[0m\u001b[0;34m(\u001b[0m\u001b[0;36m0\u001b[0m\u001b[0;34m,\u001b[0m \u001b[0mlen\u001b[0m\u001b[0;34m(\u001b[0m\u001b[0mreal_random\u001b[0m\u001b[0;34m)\u001b[0m \u001b[0;34m-\u001b[0m \u001b[0;36m1\u001b[0m\u001b[0;34m)\u001b[0m\u001b[0;34m]\u001b[0m\u001b[0;34m\u001b[0m\u001b[0m\n\u001b[1;32m      3\u001b[0m \u001b[0mcca\u001b[0m \u001b[0;34m=\u001b[0m \u001b[0;34m[\u001b[0m\u001b[0ma\u001b[0m\u001b[0;34m.\u001b[0m\u001b[0mcrosscorrelation\u001b[0m\u001b[0;34m(\u001b[0m\u001b[0mfake_random\u001b[0m\u001b[0;34m,\u001b[0m \u001b[0mreal_random\u001b[0m\u001b[0;34m,\u001b[0m \u001b[0mi\u001b[0m\u001b[0;34m)\u001b[0m \u001b[0;32mfor\u001b[0m \u001b[0mi\u001b[0m \u001b[0;32min\u001b[0m \u001b[0mrange\u001b[0m\u001b[0;34m(\u001b[0m\u001b[0;36m0\u001b[0m\u001b[0;34m,\u001b[0m \u001b[0mlen\u001b[0m\u001b[0;34m(\u001b[0m\u001b[0mfake_random\u001b[0m\u001b[0;34m)\u001b[0m \u001b[0;34m-\u001b[0m \u001b[0;36m1\u001b[0m\u001b[0;34m)\u001b[0m\u001b[0;34m]\u001b[0m\u001b[0;34m\u001b[0m\u001b[0m\n\u001b[0;32m----> 4\u001b[0;31m \u001b[0mccb\u001b[0m \u001b[0;34m=\u001b[0m \u001b[0;34m[\u001b[0m\u001b[0ma\u001b[0m\u001b[0;34m.\u001b[0m\u001b[0mcrosscorrelation\u001b[0m\u001b[0;34m(\u001b[0m\u001b[0mreal_random\u001b[0m\u001b[0;34m,\u001b[0m \u001b[0mfake_random\u001b[0m\u001b[0;34m,\u001b[0m \u001b[0mi\u001b[0m\u001b[0;34m)\u001b[0m \u001b[0;32mfor\u001b[0m \u001b[0mi\u001b[0m \u001b[0;32min\u001b[0m \u001b[0mrange\u001b[0m\u001b[0;34m(\u001b[0m\u001b[0;36m0\u001b[0m\u001b[0;34m,\u001b[0m \u001b[0mlen\u001b[0m\u001b[0;34m(\u001b[0m\u001b[0mreal_random\u001b[0m\u001b[0;34m)\u001b[0m \u001b[0;34m-\u001b[0m \u001b[0;36m1\u001b[0m\u001b[0;34m)\u001b[0m\u001b[0;34m]\u001b[0m\u001b[0;34m\u001b[0m\u001b[0m\n\u001b[0m",
      "\u001b[0;32mC:\\Users\\Kell\\PycharmProjects\\ExpData\\analysis.py\u001b[0m in \u001b[0;36mcrosscorrelation\u001b[0;34m(arr_f, arr_g, lag)\u001b[0m\n\u001b[1;32m    151\u001b[0m                 \u001b[0mlSum\u001b[0m \u001b[0;34m+=\u001b[0m \u001b[0;34m(\u001b[0m\u001b[0marr_f\u001b[0m\u001b[0;34m[\u001b[0m\u001b[0mi\u001b[0m\u001b[0;34m]\u001b[0m \u001b[0;34m-\u001b[0m \u001b[0mavg_f\u001b[0m\u001b[0;34m)\u001b[0m \u001b[0;34m*\u001b[0m \u001b[0;34m(\u001b[0m\u001b[0marr_g\u001b[0m\u001b[0;34m[\u001b[0m\u001b[0mi\u001b[0m \u001b[0;34m+\u001b[0m \u001b[0mlag\u001b[0m\u001b[0;34m]\u001b[0m \u001b[0;34m-\u001b[0m \u001b[0mavg_g\u001b[0m\u001b[0;34m)\u001b[0m\u001b[0;34m\u001b[0m\u001b[0m\n\u001b[1;32m    152\u001b[0m \u001b[0;34m\u001b[0m\u001b[0m\n\u001b[0;32m--> 153\u001b[0;31m         \u001b[0;32mreturn\u001b[0m \u001b[0mlSum\u001b[0m \u001b[0;34m/\u001b[0m \u001b[0;34m(\u001b[0m\u001b[0mlen\u001b[0m\u001b[0;34m(\u001b[0m\u001b[0marr_f\u001b[0m\u001b[0;34m)\u001b[0m \u001b[0;34m*\u001b[0m \u001b[0msqrt_variance\u001b[0m\u001b[0;34m(\u001b[0m\u001b[0marr_f\u001b[0m\u001b[0;34m)\u001b[0m \u001b[0;34m*\u001b[0m \u001b[0msqrt_variance\u001b[0m\u001b[0;34m(\u001b[0m\u001b[0marr_g\u001b[0m\u001b[0;34m)\u001b[0m\u001b[0;34m)\u001b[0m\u001b[0;34m\u001b[0m\u001b[0m\n\u001b[0m",
      "\u001b[0;32mC:\\Users\\Kell\\PycharmProjects\\ExpData\\analysis.py\u001b[0m in \u001b[0;36msqrt_variance\u001b[0;34m(arr)\u001b[0m\n\u001b[1;32m     58\u001b[0m         \u001b[0;34m:\u001b[0m\u001b[0;32mreturn\u001b[0m\u001b[0;34m:\u001b[0m \u001b[0msquare\u001b[0m \u001b[0mroot\u001b[0m \u001b[0mof\u001b[0m \u001b[0mvariance\u001b[0m\u001b[0;34m\u001b[0m\u001b[0m\n\u001b[1;32m     59\u001b[0m \t\"\"\"\n\u001b[0;32m---> 60\u001b[0;31m         \u001b[0;32mreturn\u001b[0m \u001b[0mmath\u001b[0m\u001b[0;34m.\u001b[0m\u001b[0msqrt\u001b[0m\u001b[0;34m(\u001b[0m\u001b[0mvariance\u001b[0m\u001b[0;34m(\u001b[0m\u001b[0marr\u001b[0m\u001b[0;34m)\u001b[0m\u001b[0;34m)\u001b[0m\u001b[0;34m\u001b[0m\u001b[0m\n\u001b[0m\u001b[1;32m     61\u001b[0m \u001b[0;34m\u001b[0m\u001b[0m\n\u001b[1;32m     62\u001b[0m \u001b[0;32mdef\u001b[0m \u001b[0mmoment\u001b[0m\u001b[0;34m(\u001b[0m\u001b[0marr\u001b[0m\u001b[0;34m,\u001b[0m \u001b[0mordinal\u001b[0m\u001b[0;34m:\u001b[0m \u001b[0mint\u001b[0m\u001b[0;34m)\u001b[0m \u001b[0;34m->\u001b[0m \u001b[0mfloat\u001b[0m\u001b[0;34m:\u001b[0m\u001b[0;34m\u001b[0m\u001b[0m\n",
      "\u001b[0;32mC:\\Users\\Kell\\PycharmProjects\\ExpData\\analysis.py\u001b[0m in \u001b[0;36mvariance\u001b[0;34m(arr)\u001b[0m\n\u001b[1;32m     48\u001b[0m         \u001b[0;34m:\u001b[0m\u001b[0;32mreturn\u001b[0m\u001b[0;34m:\u001b[0m \u001b[0mdispersion\u001b[0m \u001b[0mvalue\u001b[0m \u001b[0;32mfor\u001b[0m \u001b[0mthe\u001b[0m \u001b[0marray\u001b[0m\u001b[0;34m\u001b[0m\u001b[0m\n\u001b[1;32m     49\u001b[0m \t\"\"\"\n\u001b[0;32m---> 50\u001b[0;31m         \u001b[0;32mreturn\u001b[0m \u001b[0mmoment\u001b[0m\u001b[0;34m(\u001b[0m\u001b[0marr\u001b[0m\u001b[0;34m,\u001b[0m \u001b[0;36m2\u001b[0m\u001b[0;34m)\u001b[0m\u001b[0;34m\u001b[0m\u001b[0m\n\u001b[0m\u001b[1;32m     51\u001b[0m \u001b[0;34m\u001b[0m\u001b[0m\n\u001b[1;32m     52\u001b[0m \u001b[0;32mdef\u001b[0m \u001b[0msqrt_variance\u001b[0m\u001b[0;34m(\u001b[0m\u001b[0marr\u001b[0m\u001b[0;34m)\u001b[0m \u001b[0;34m->\u001b[0m \u001b[0mfloat\u001b[0m\u001b[0;34m:\u001b[0m\u001b[0;34m\u001b[0m\u001b[0m\n",
      "\u001b[0;32mC:\\Users\\Kell\\PycharmProjects\\ExpData\\analysis.py\u001b[0m in \u001b[0;36mmoment\u001b[0;34m(arr, ordinal)\u001b[0m\n\u001b[1;32m     72\u001b[0m         \u001b[0md\u001b[0m \u001b[0;34m=\u001b[0m \u001b[0;36m0\u001b[0m\u001b[0;34m\u001b[0m\u001b[0m\n\u001b[1;32m     73\u001b[0m         \u001b[0;32mfor\u001b[0m \u001b[0mi\u001b[0m \u001b[0;32min\u001b[0m \u001b[0marr\u001b[0m\u001b[0;34m:\u001b[0m\u001b[0;34m\u001b[0m\u001b[0m\n\u001b[0;32m---> 74\u001b[0;31m                 \u001b[0md\u001b[0m \u001b[0;34m+=\u001b[0m \u001b[0;34m(\u001b[0m\u001b[0mi\u001b[0m \u001b[0;34m-\u001b[0m \u001b[0mav\u001b[0m\u001b[0;34m)\u001b[0m \u001b[0;34m**\u001b[0m \u001b[0mordinal\u001b[0m\u001b[0;34m\u001b[0m\u001b[0m\n\u001b[0m\u001b[1;32m     75\u001b[0m         \u001b[0;32mreturn\u001b[0m \u001b[0md\u001b[0m \u001b[0;34m/\u001b[0m \u001b[0mlen\u001b[0m\u001b[0;34m(\u001b[0m\u001b[0marr\u001b[0m\u001b[0;34m)\u001b[0m\u001b[0;34m\u001b[0m\u001b[0m\n\u001b[1;32m     76\u001b[0m \u001b[0;34m\u001b[0m\u001b[0m\n",
      "\u001b[0;31mKeyboardInterrupt\u001b[0m: "
     ],
     "output_type": "error"
    }
   ],
   "source": [
    "ac_fake = [a.autocorrelation(fake_random, i) for i in range(0, len(fake_random) - 1)]\n",
    "ac_real = [a.autocorrelation(real_random, i) for i in range(0, len(real_random) - 1)]\n",
    "cca = [a.crosscorrelation(fake_random, real_random, i) for i in range(0, len(fake_random) - 1)]\n",
    "ccb = [a.crosscorrelation(real_random, fake_random, i) for i in range(0, len(real_random) - 1)]"
   ]
  },
  {
   "cell_type": "markdown",
   "metadata": {},
   "source": [
    "Выведем графики полученных значений автокорреляционой функции."
   ]
  },
  {
   "cell_type": "code",
   "execution_count": 6,
   "metadata": {
    "collapsed": false
   },
   "outputs": [
    {
     "data": {
      "image/png": "[encoded data removed]",
      "text/plain": [
       "<matplotlib.figure.Figure at 0x5f60890>"
      ]
     },
     "metadata": {},
     "output_type": "display_data"
    }
   ],
   "source": [
    "grapher.set_subplot(subplot_number=1, x_arr=range(0, len(fake_random) - 1), y_arr=ac_fake,\n",
    "                    title='AutoCorr of my function')\n",
    "grapher.set_subplot(subplot_number=2, x_arr=range(0, len(real_random) - 1), y_arr=ac_real,\n",
    "                    title='AutoCorr of native function')"
   ]
  },
  {
   "cell_type": "markdown",
   "metadata": {},
   "source": [
    "А также графики значений кросскорреляционных функций."
   ]
  },
  {
   "cell_type": "code",
   "execution_count": 7,
   "metadata": {},
   "outputs": [
    {
     "data": {
      "image/png": "[encoded data removed]",
      "text/plain": [
       "<matplotlib.figure.Figure at 0x7a010b0>"
      ]
     },
     "metadata": {},
     "output_type": "display_data"
    }
   ],
   "source": [
    "grapher.set_subplot(subplot_number=1, x_arr=range(0, len(fake_random) - 1), y_arr=cca,\n",
    "                    title='CrossCorr of my R() to native')\n",
    "grapher.set_subplot(subplot_number=2, x_arr=range(0, len(real_random) - 1), y_arr=ccb,\n",
    "                    title='CrossCorr of native R() to mine')"
   ]
  },
  {
   "cell_type": "markdown",
   "metadata": {},
   "source": [
    "Как можно заметить, корреляции найти не удалось, что говорит о достаточно качественной реализации функций.  \n",
    "  \n",
    "### Стационарность\n",
    "Для проверки нашей реализации ГПСЧ на стационарность давайте возьмем длинную последовательность значений, разобьем ее на 10 одинаковых интервалов и полученные интервалы рассмотрим как ансамбль функций.  \n"
   ]
  },
  {
   "cell_type": "code",
   "execution_count": 14,
   "metadata": {},
   "outputs": [],
   "source": [
    "length = 10000\n",
    "fake_random = [p.next() for i in range(0, length)]\n",
    "\n",
    "array_f = []\n",
    "for i in range(0, 10):\n",
    "\tarray_f.append(fake_random[int(i * length / 10):int((i + 1) * length / 10)])"
   ]
  },
  {
   "cell_type": "markdown",
   "metadata": {},
   "source": [
    "Для определения стационарности процесса посчитаем стандартное отклонение множества средних значений и дисперсий для данного ансамбля. Будем считать, что процесс является стационарным при условии, что стандартное отклонение будет составлять не более 5% от максимального значения функции."
   ]
  },
  {
   "cell_type": "code",
   "execution_count": 15,
   "metadata": {
    "collapsed": false
   },
   "outputs": [
    {
     "name": "stdout",
     "output_type": "stream",
     "text": [
      "СКО средних по 10 замерам: 1.0204033239656067,\nотносительно максимального результата функции: 102.04%\n\nСКО дисперсий по 10 замерам: 1.0484248978307917,\nотносительно максимального результата функции: 104.84%\n\nПроцесс стационарен: False\n"
     ]
    }
   ],
   "source": [
    "mean_arr = [a.mean(i) for i in array_f]\n",
    "# t = a.sqrt_variance(mean_arr)\n",
    "t = max(mean_arr)/a.mean(mean_arr)\n",
    "print('СКО средних по 10 замерам: {0},\\n'\n",
    "      'относительно максимального результата функции: {1}%'.format(t, round(t * 100 / right, 2)))\n",
    "print()\n",
    "stationarity = False if round(t * 100 / right) > 5 else True\n",
    "\n",
    "variance_arr = [a.variance(i) for i in array_f]\n",
    "t = max(variance_arr)/a.mean(variance_arr)\n",
    "\n",
    "print('СКО дисперсий по 10 замерам: {0},\\n'\n",
    "      'относительно максимального результата функции: {1}%'.format(t, round(t * 100 / right, 2)))\n",
    "stationarity = False if round(t * 100 / right) > 5 else stationarity\n",
    "print()\n",
    "\n",
    "print('Процесс стационарен: ' + str(stationarity))"
   ]
  },
  {
   "cell_type": "markdown",
   "metadata": {},
   "source": [
    "### Заключение  \n",
    "В рамках данной работы были проанализированы собственная реализация ГПСЧ и встроенная в стандартную библиотеку языка Python 3. Были построены графики их авто- и кросс-корреляций и сделан вывод о стационарности процесса."
   ]
  }
 ],
 "metadata": {
  "kernelspec": {
   "display_name": "Python 2",
   "language": "python",
   "name": "python2"
  },
  "language_info": {
   "codemirror_mode": {
    "name": "ipython",
    "version": 2
   },
   "file_extension": ".py",
   "mimetype": "text/x-python",
   "name": "python",
   "nbconvert_exporter": "python",
   "pygments_lexer": "ipython2",
   "version": "2.7.6"
  }
 },
 "nbformat": 4,
 "nbformat_minor": 0
}
