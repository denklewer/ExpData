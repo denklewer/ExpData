{
 "cells": [
  {
   "cell_type": "markdown",
   "metadata": {},
   "source": [
    "## Анализ встроенного и собственноручно реализованного ГПСЧ  \n",
    "### Реализация\n",
    "Импортируем нужные модули и инициализируем генератор случайных чисел."
   ]
  },
  {
   "cell_type": "code",
   "execution_count": 1,
   "metadata": {},
   "outputs": [
    {
     "data": {
      "text/plain": [
       "<matplotlib.figure.Figure at 0x610dc70>"
      ]
     },
     "execution_count": 0,
     "metadata": {},
     "output_type": "execute_result"
    }
   ],
   "source": [
    "import sys\n",
    "sys.path.append(r'C:\\Users\\Kell\\PycharmProjects\\ExpData')\n",
    "\n",
    "import random\n",
    "from pylab import frange\n",
    "\n",
    "import grapher\n",
    "import analysis as a\n",
    "import prng\n",
    "\n",
    "%matplotlib inline\n",
    "\n",
    "p = prng.PRNG()\n",
    "\n",
    "grapher.init()"
   ]
  },
  {
   "cell_type": "markdown",
   "metadata": {},
   "source": [
    "Далее зададим длину массива случайных чисел, левую и правую границу возможных значений, и сгенерируем два массива:  \n",
    " * fake_random сгенерирован с помощью созданной мной функцией генерации псевдослучайных случайных чисел;\n",
    " * real_random сгенерирован с помощью встроенной функции генерации псевдослучайных чисел."
   ]
  },
  {
   "cell_type": "code",
   "execution_count": 2,
   "metadata": {},
   "outputs": [],
   "source": [
    "length = 5000\n",
    "left = 0\n",
    "right = 1\n",
    "\n",
    "fake_random = [p.next(left=left, right=right) for i in range(0, length)]\n",
    "real_random = [random.random() for j in range(0, length)]"
   ]
  },
  {
   "cell_type": "markdown",
   "metadata": {},
   "source": [
    "### Статистика  \n",
    "Посчитаем статистику для полученных массивов и сравним их."
   ]
  },
  {
   "cell_type": "code",
   "execution_count": 3,
   "metadata": {},
   "outputs": [
    {
     "name": "stdout",
     "output_type": "stream",
     "text": [
      "Functions:\t\tMy realization\tNative Realization\nMean:\t\t\t0.5019107\t\t0.5001412\nSquare mean:\t\t0.3349851\t\t0.3332533\nRoot Mean Square:\t0.578779\t\t0.577281\nVariance:\t\t0.0830708\t\t0.0831121\nSQRT Variance:\t\t0.28822\t\t0.2882917\nSkewness:\t\t-0.0173454\t\t-0.0048228\nKurtosis:\t\t1.794759\t\t1.8110631\n"
     ]
    }
   ],
   "source": [
    "print(\"Functions:\\t\\t{0}\\t{1}\".format(\"My realization\",\n",
    "                                      \"Native Realization\"))\n",
    "print(\"Mean:\\t\\t\\t{0}\\t\\t{1}\".format(round(a.mean(fake_random), 7),\n",
    "                                   round(a.mean(real_random), 7)))\n",
    "print(\"Square mean:\\t\\t{0}\\t\\t{1}\".format(round(a.square_mean(fake_random), 7),\n",
    "                                        round(a.square_mean(real_random), 7)))\n",
    "print(\"Root Mean Square:\\t{0}\\t\\t{1}\".format(round(a.root_mean_square(fake_random), 7),\n",
    "                                             round(a.root_mean_square(real_random), 7)))\n",
    "print(\"Variance:\\t\\t{0}\\t\\t{1}\".format(round(a.variance(fake_random), 7),\n",
    "                                       round(a.variance(real_random), 7)))\n",
    "print(\"SQRT Variance:\\t\\t{0}\\t\\t{1}\".format(round(a.sqrt_variance(fake_random), 7),\n",
    "                                          round(a.sqrt_variance(real_random), 7)))\n",
    "print(\"Skewness:\\t\\t{0}\\t\\t{1}\".format(round(a.skewness(fake_random), 7),\n",
    "                                       round(a.skewness(real_random), 7)))\n",
    "print(\"Kurtosis:\\t\\t{0}\\t\\t{1}\".format(round(a.kurtosis(fake_random), 7),\n",
    "                                       round(a.kurtosis(real_random), 7)))"
   ]
  },
  {
   "cell_type": "markdown",
   "metadata": {},
   "source": [
    "Можно заметить, что многие показатели почти совпадают, что говорит о схожести распределения.  \n",
    "  \n",
    "Выведем плотность вероятности для каждой функции на промежутке от минимального значения до максимального."
   ]
  },
  {
   "cell_type": "code",
   "execution_count": 4,
   "metadata": {},
   "outputs": [
    {
     "data": {
      "image/png": "[encoded data removed]",
      "text/plain": [
       "<matplotlib.figure.Figure at 0x6140e70>"
      ]
     },
     "metadata": {},
     "output_type": "display_data"
    }
   ],
   "source": [
    "bar_count = 10\n",
    "grapher.set_subplot(subplot_number=1, x_arr=range(0, bar_count),\n",
    "                    xticks=[range(0, bar_count),\n",
    "                            [str(i) for i in frange(left, right, (right - left) / bar_count)]],\n",
    "                    y_arr=a.density(fake_random, bar_count), bar=True, title='My Random()')\n",
    "grapher.set_subplot(subplot_number=2, x_arr=range(0, bar_count),\n",
    "                    xticks=[range(0, bar_count),\n",
    "                            [str(i) for i in frange(0, 1, 0.1)]],\n",
    "                    y_arr=a.density(real_random, bar_count), bar=True, title='Native Random()')"
   ]
  },
  {
   "cell_type": "markdown",
   "metadata": {},
   "source": [
    "Далее посчитаем автокорреляцию для каждой из функций и кросскорреляцию функций друг с другом."
   ]
  },
  {
   "cell_type": "code",
   "execution_count": 5,
   "metadata": {},
   "outputs": [],
   "source": [
    "ac_fake = [a.autocorrelation(fake_random, i) for i in range(0, len(fake_random) - 1)]\n",
    "ac_real = [a.autocorrelation(real_random, i) for i in range(0, len(real_random) - 1)]\n",
    "cca = [a.crosscorrelation(fake_random, real_random, i) for i in range(0, len(fake_random) - 1)]\n",
    "ccb = [a.crosscorrelation(real_random, fake_random, i) for i in range(0, len(real_random) - 1)]"
   ]
  },
  {
   "cell_type": "markdown",
   "metadata": {},
   "source": [
    "Выведем графики полученных значений автокорреляционой функции."
   ]
  },
  {
   "cell_type": "code",
   "execution_count": 6,
   "metadata": {
    "collapsed": false
   },
   "outputs": [
    {
     "data": {
      "image/png": "[encoded data removed]",
      "text/plain": [
       "<matplotlib.figure.Figure at 0x6140870>"
      ]
     },
     "metadata": {},
     "output_type": "display_data"
    }
   ],
   "source": [
    "grapher.set_subplot(subplot_number=1, x_arr=range(0, len(fake_random) - 1), y_arr=ac_fake,\n",
    "                    title='AutoCorr of my function')\n",
    "grapher.set_subplot(subplot_number=2, x_arr=range(0, len(real_random) - 1), y_arr=ac_real,\n",
    "                    title='AutoCorr of native function')"
   ]
  },
  {
   "cell_type": "markdown",
   "metadata": {},
   "source": [
    "А также графики значений кросскорреляционных функций."
   ]
  },
  {
   "cell_type": "code",
   "execution_count": 7,
   "metadata": {},
   "outputs": [
    {
     "data": {
      "image/png": "[encoded data removed]",
      "text/plain": [
       "<matplotlib.figure.Figure at 0x94d6cd0>"
      ]
     },
     "metadata": {},
     "output_type": "display_data"
    }
   ],
   "source": [
    "grapher.set_subplot(subplot_number=1, x_arr=range(0, len(fake_random) - 1), y_arr=cca,\n",
    "                    title='CrossCorr of my R() to native')\n",
    "grapher.set_subplot(subplot_number=2, x_arr=range(0, len(real_random) - 1), y_arr=ccb,\n",
    "                    title='CrossCorr of native R() to mine')"
   ]
  },
  {
   "cell_type": "markdown",
   "metadata": {},
   "source": [
    "Как можно заметить, корреляции найти не удалось, что говорит о достаточно качественной реализации функций.  \n",
    "  \n",
    "### Стационарность\n",
    "Для проверки нашей реализации ГПСЧ на стационарность давайте возьмем длинную последовательность значений, разобьем ее на 10 одинаковых интервалов и полученные интервалы рассмотрим как ансамбль функций.  \n"
   ]
  },
  {
   "cell_type": "code",
   "execution_count": 8,
   "metadata": {},
   "outputs": [],
   "source": [
    "length = 10000\n",
    "fake_random = [p.next() for i in range(0, length)]\n",
    "\n",
    "array_f = []\n",
    "for i in range(0, 10):\n",
    "\tarray_f.append(fake_random[int(i * length / 10):int((i + 1) * length / 10)])"
   ]
  },
  {
   "cell_type": "markdown",
   "metadata": {},
   "source": [
    "Для определения стационарности процесса посчитаем стандартное отклонение множества средних значений и дисперсий для данного ансамбля. Будем считать, что процесс является стационарным при условии, что стандартное отклонение будет составлять не более 5% от максимального значения функции."
   ]
  },
  {
   "cell_type": "code",
   "execution_count": 9,
   "metadata": {
    "collapsed": false
   },
   "outputs": [
    {
     "name": "stdout",
     "output_type": "stream",
     "text": [
      "СКО средних по 10 замерам: 0.007738644464479934, относительно максимального результата функции: 0.77%\nСКО дисперсий по 10 замерам: 0.002565412793643318, относительно максимального результата функции: 0.26%\nПроцесс стационарен: True\n"
     ]
    }
   ],
   "source": [
    "\n",
    "mean_arr = [a.mean(i) for i in array_f]\n",
    "t = a.sqrt_variance(mean_arr)\n",
    "print('СКО средних по 10 замерам: {0},'\n",
    "      ' относительно максимального результата функции: {1}%'.format(t, round(t * 100 / right, 2)))\n",
    "stationarity = False if round(t * 100 / right) > 5 else True\n",
    "\n",
    "variance_arr = [a.variance(i) for i in array_f]\n",
    "t = a.sqrt_variance(variance_arr)\n",
    "print('СКО дисперсий по 10 замерам: {0},'\n",
    "      ' относительно максимального результата функции: {1}%'.format(t, round(t * 100 / right, 2)))\n",
    "stationarity = False if round(t * 100 / right) > 5 else stationarity\n",
    "\n",
    "print('Процесс стационарен: ' + str(stationarity))"
   ]
  },
  {
   "cell_type": "markdown",
   "metadata": {},
   "source": [
    "### Заключение  \n",
    "В рамках данной работы были проанализированы собственная реализация ГПСЧ и встроенная в стандартную библиотеку языка Python 3. Были построены графики их авто- и кросс-корреляций и сделан вывод о стационарности процесса."
   ]
  },
  {
   "cell_type": "code",
   "execution_count": null,
   "metadata": {},
   "outputs": [],
   "source": []
  }
 ],
 "metadata": {
  "kernelspec": {
   "display_name": "Python 2",
   "language": "python",
   "name": "python2"
  },
  "language_info": {
   "codemirror_mode": {
    "name": "ipython",
    "version": 2
   },
   "file_extension": ".py",
   "mimetype": "text/x-python",
   "name": "python",
   "nbconvert_exporter": "python",
   "pygments_lexer": "ipython2",
   "version": "2.7.6"
  }
 },
 "nbformat": 4,
 "nbformat_minor": 0
}
